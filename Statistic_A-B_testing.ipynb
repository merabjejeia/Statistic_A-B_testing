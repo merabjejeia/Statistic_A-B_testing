{
 "cells": [
  {
   "attachments": {},
   "cell_type": "markdown",
   "metadata": {},
   "source": [
    "# A/B–тестирование"
   ]
  },
  {
   "cell_type": "code",
   "execution_count": 24,
   "metadata": {},
   "outputs": [],
   "source": [
    "# Подключение требуемых библиотек\n",
    "\n",
    "import pandas as pd\n",
    "import pandahouse as ph\n",
    "import seaborn as sns\n",
    "import numpy as np\n",
    "from tqdm.auto import tqdm\n",
    "from scipy.stats import norm\n",
    "import scipy\n",
    "import matplotlib.pyplot as plt\n",
    "plt.style.use('ggplot')"
   ]
  },
  {
   "cell_type": "code",
   "execution_count": 25,
   "metadata": {},
   "outputs": [],
   "source": [
    "# Подгружаем данные\n",
    "\n",
    "active_studs = pd.read_csv('csv/active_studs.csv')\n",
    "# active_studs = pd.read_csv('https://getfile.dokpub.com/yandex/get/https://disk.yandex.ru/d/9ExyNormZbelyg')\n",
    " \n",
    "checks = pd.read_csv('csv\\checks.csv', sep=';')\n",
    "# url_checks = 'https://disk.yandex.ru/d/H-GJTo5Mx4Ld-g'\n",
    "# checks = pd.read_csv(f'https://getfile.dokpub.com/yandex/get/{url_checks}', sep=';')\n",
    "\n",
    "groups_add = pd.read_csv('csv\\groups_add.csv')\n",
    "# groups_add = pd.read_csv('https://getfile.dokpub.com/yandex/get/https://disk.yandex.ru/d/5Kxrz02m3IBUwQ')\n",
    "\n",
    "groups = pd.read_csv('csv\\groups.csv', sep=';')\n",
    "# groups = pd.read_csv('https://getfile.dokpub.com/yandex/get/https://disk.yandex.ru/d/LIE6fUfbD7belQ', sep=';')"
   ]
  },
  {
   "attachments": {},
   "cell_type": "markdown",
   "metadata": {},
   "source": [
    "Объединяем groups c groups_add, так как второй файл нам прислали спустя 2 дня после передачи данных."
   ]
  },
  {
   "cell_type": "code",
   "execution_count": 26,
   "metadata": {},
   "outputs": [
    {
     "name": "stdout",
     "output_type": "stream",
     "text": [
      "(8490, 3)\n"
     ]
    },
    {
     "data": {
      "text/html": [
       "<div>\n",
       "<style scoped>\n",
       "    .dataframe tbody tr th:only-of-type {\n",
       "        vertical-align: middle;\n",
       "    }\n",
       "\n",
       "    .dataframe tbody tr th {\n",
       "        vertical-align: top;\n",
       "    }\n",
       "\n",
       "    .dataframe thead th {\n",
       "        text-align: right;\n",
       "    }\n",
       "</style>\n",
       "<table border=\"1\" class=\"dataframe\">\n",
       "  <thead>\n",
       "    <tr style=\"text-align: right;\">\n",
       "      <th></th>\n",
       "      <th>student_id</th>\n",
       "      <th>Revenue</th>\n",
       "      <th>grp</th>\n",
       "    </tr>\n",
       "  </thead>\n",
       "  <tbody>\n",
       "    <tr>\n",
       "      <th>0</th>\n",
       "      <td>581585</td>\n",
       "      <td>0.0</td>\n",
       "      <td>A</td>\n",
       "    </tr>\n",
       "    <tr>\n",
       "      <th>1</th>\n",
       "      <td>5723133</td>\n",
       "      <td>0.0</td>\n",
       "      <td>A</td>\n",
       "    </tr>\n",
       "  </tbody>\n",
       "</table>\n",
       "</div>"
      ],
      "text/plain": [
       "   student_id  Revenue grp\n",
       "0      581585      0.0   A\n",
       "1     5723133      0.0   A"
      ]
     },
     "execution_count": 26,
     "metadata": {},
     "output_type": "execute_result"
    }
   ],
   "source": [
    "df_groups = pd.concat([groups, groups_add]).rename(columns={'id':'student_id'})\n",
    "df_customers = active_studs.merge(checks, how='outer', on='student_id').fillna(0)\n",
    "df = df_customers.merge(df_groups, how='left', on='student_id').fillna(0).rename(columns={'rev':'Revenue'})\n",
    "print(df.shape)\n",
    "df.head(2)"
   ]
  },
  {
   "attachments": {},
   "cell_type": "markdown",
   "metadata": {},
   "source": [
    "### На какие метрики Вы смотрите в ходе анализа и почему?\n",
    "По условию задачи не совсем понятно что значит \"новая механика оплаты услуг на сайте\". Можно предположить, что новая механика оплаты была введена дабы стимулировать рост продаж определенного продукта. Исходя из предположений, в ходе анализа будем смотреть на метрику ARPPU (средний чек пользователей, которые совершили покупку) и метрику CR (конвертация пользователей, постетивших сайт, в покупку).\n",
    "\n",
    "Для того, чтобы рассчитать ARPPU и CR, нужно подготовить данные. Для этого создам дополнительный датасет для рассчета."
   ]
  },
  {
   "cell_type": "code",
   "execution_count": 27,
   "metadata": {},
   "outputs": [
    {
     "data": {
      "text/html": [
       "<div>\n",
       "<style scoped>\n",
       "    .dataframe tbody tr th:only-of-type {\n",
       "        vertical-align: middle;\n",
       "    }\n",
       "\n",
       "    .dataframe tbody tr th {\n",
       "        vertical-align: top;\n",
       "    }\n",
       "\n",
       "    .dataframe thead th {\n",
       "        text-align: right;\n",
       "    }\n",
       "</style>\n",
       "<table border=\"1\" class=\"dataframe\">\n",
       "  <thead>\n",
       "    <tr style=\"text-align: right;\">\n",
       "      <th></th>\n",
       "      <th>grp</th>\n",
       "      <th>student_id</th>\n",
       "      <th>Revenue</th>\n",
       "      <th>buyers</th>\n",
       "      <th>total_users</th>\n",
       "    </tr>\n",
       "  </thead>\n",
       "  <tbody>\n",
       "    <tr>\n",
       "      <th>0</th>\n",
       "      <td>A</td>\n",
       "      <td>275727655</td>\n",
       "      <td>92096.0000</td>\n",
       "      <td>107</td>\n",
       "      <td>1567</td>\n",
       "    </tr>\n",
       "    <tr>\n",
       "      <th>1</th>\n",
       "      <td>B</td>\n",
       "      <td>1084763905</td>\n",
       "      <td>481230.0036</td>\n",
       "      <td>434</td>\n",
       "      <td>6923</td>\n",
       "    </tr>\n",
       "  </tbody>\n",
       "</table>\n",
       "</div>"
      ],
      "text/plain": [
       "  grp  student_id      Revenue  buyers  total_users\n",
       "0   A   275727655   92096.0000     107         1567\n",
       "1   B  1084763905  481230.0036     434         6923"
      ]
     },
     "execution_count": 27,
     "metadata": {},
     "output_type": "execute_result"
    }
   ],
   "source": [
    "df_1 = df.query('Revenue>0') \\\n",
    "        .groupby('grp', as_index=False).sum()\n",
    "\n",
    "df_1['buyers'] = df.query('Revenue>0') \\\n",
    "                    .groupby('grp', as_index=False) \\\n",
    "                    .count()['Revenue']\n",
    "\n",
    "df_1['total_users'] = df.groupby('grp', as_index=False).count()['student_id']\n",
    "df_1.head()"
   ]
  },
  {
   "attachments": {},
   "cell_type": "markdown",
   "metadata": {},
   "source": [
    "Теперь можно рассчитать выбранные метрики"
   ]
  },
  {
   "attachments": {},
   "cell_type": "markdown",
   "metadata": {},
   "source": [
    "# ARPPU\n",
    "#### Формула:\n",
    "$$ ARPPU⠀=⠀{Доход⠀компании⠀за⠀период \\over Количество⠀покупателей} $$"
   ]
  },
  {
   "cell_type": "code",
   "execution_count": 28,
   "metadata": {},
   "outputs": [
    {
     "data": {
      "text/html": [
       "<div>\n",
       "<style scoped>\n",
       "    .dataframe tbody tr th:only-of-type {\n",
       "        vertical-align: middle;\n",
       "    }\n",
       "\n",
       "    .dataframe tbody tr th {\n",
       "        vertical-align: top;\n",
       "    }\n",
       "\n",
       "    .dataframe thead th {\n",
       "        text-align: right;\n",
       "    }\n",
       "</style>\n",
       "<table border=\"1\" class=\"dataframe\">\n",
       "  <thead>\n",
       "    <tr style=\"text-align: right;\">\n",
       "      <th></th>\n",
       "      <th>grp</th>\n",
       "      <th>ARPPU</th>\n",
       "    </tr>\n",
       "  </thead>\n",
       "  <tbody>\n",
       "    <tr>\n",
       "      <th>0</th>\n",
       "      <td>A</td>\n",
       "      <td>860.71</td>\n",
       "    </tr>\n",
       "    <tr>\n",
       "      <th>1</th>\n",
       "      <td>B</td>\n",
       "      <td>1108.82</td>\n",
       "    </tr>\n",
       "  </tbody>\n",
       "</table>\n",
       "</div>"
      ],
      "text/plain": [
       "  grp    ARPPU\n",
       "0   A   860.71\n",
       "1   B  1108.82"
      ]
     },
     "execution_count": 28,
     "metadata": {},
     "output_type": "execute_result"
    }
   ],
   "source": [
    "metrics = df_1[['grp']].copy()\n",
    "metrics['ARPPU'] = (df_1['Revenue'] / df_1['buyers']).round(2)\n",
    "metrics"
   ]
  },
  {
   "attachments": {},
   "cell_type": "markdown",
   "metadata": {},
   "source": [
    "# Conversion rate\n",
    "#### Формула:\n",
    "$$ CR⠀=⠀{Число⠀посетителей,⠀совершивших⠀целевое⠀действие \\over Общее⠀кол-во⠀посетителей}⠀*⠀100% $$"
   ]
  },
  {
   "cell_type": "code",
   "execution_count": 29,
   "metadata": {},
   "outputs": [
    {
     "data": {
      "text/html": [
       "<div>\n",
       "<style scoped>\n",
       "    .dataframe tbody tr th:only-of-type {\n",
       "        vertical-align: middle;\n",
       "    }\n",
       "\n",
       "    .dataframe tbody tr th {\n",
       "        vertical-align: top;\n",
       "    }\n",
       "\n",
       "    .dataframe thead th {\n",
       "        text-align: right;\n",
       "    }\n",
       "</style>\n",
       "<table border=\"1\" class=\"dataframe\">\n",
       "  <thead>\n",
       "    <tr style=\"text-align: right;\">\n",
       "      <th></th>\n",
       "      <th>grp</th>\n",
       "      <th>ARPPU</th>\n",
       "      <th>CR</th>\n",
       "    </tr>\n",
       "  </thead>\n",
       "  <tbody>\n",
       "    <tr>\n",
       "      <th>0</th>\n",
       "      <td>A</td>\n",
       "      <td>860.71</td>\n",
       "      <td>6.83</td>\n",
       "    </tr>\n",
       "    <tr>\n",
       "      <th>1</th>\n",
       "      <td>B</td>\n",
       "      <td>1108.82</td>\n",
       "      <td>6.27</td>\n",
       "    </tr>\n",
       "  </tbody>\n",
       "</table>\n",
       "</div>"
      ],
      "text/plain": [
       "  grp    ARPPU    CR\n",
       "0   A   860.71  6.83\n",
       "1   B  1108.82  6.27"
      ]
     },
     "execution_count": 29,
     "metadata": {},
     "output_type": "execute_result"
    }
   ],
   "source": [
    "metrics['CR'] = (df_1['buyers'] / df_1['total_users'] * 100).round(2)\n",
    "metrics "
   ]
  },
  {
   "cell_type": "code",
   "execution_count": 30,
   "metadata": {},
   "outputs": [
    {
     "data": {
      "text/plain": [
       "Text(0.5, 1.0, 'Revenue_control')"
      ]
     },
     "execution_count": 30,
     "metadata": {},
     "output_type": "execute_result"
    },
    {
     "data": {
      "image/png": "[encoded data removed]",
      "text/plain": [
       "<Figure size 640x480 with 1 Axes>"
      ]
     },
     "metadata": {},
     "output_type": "display_data"
    }
   ],
   "source": [
    " sns.histplot(\n",
    "    df.query('Revenue>0').query('grp==\"A\"')['Revenue'],\n",
    "    bins=50, kde=True).set_title(\"Revenue_control\")"
   ]
  },
  {
   "cell_type": "code",
   "execution_count": 31,
   "metadata": {},
   "outputs": [
    {
     "data": {
      "text/plain": [
       "Text(0.5, 1.0, 'Revenue_target')"
      ]
     },
     "execution_count": 31,
     "metadata": {},
     "output_type": "execute_result"
    },
    {
     "data": {
      "image/png": "[encoded data removed]",
      "text/plain": [
       "<Figure size 640x480 with 1 Axes>"
      ]
     },
     "metadata": {},
     "output_type": "display_data"
    }
   ],
   "source": [
    " sns.histplot(\n",
    "    df.query('Revenue>0').query('grp==\"B\"')['Revenue'],\n",
    "    bins=50, kde=True).set_title(\"Revenue_target\")"
   ]
  },
  {
   "attachments": {},
   "cell_type": "markdown",
   "metadata": {},
   "source": [
    "### Имеются ли различия в показателях и с чем они могут быть связаны?\n",
    "\n",
    "Различия в показателях действительно есть, но говорить о их значимости пока рано. Видно, что ARPPU у целевой группы(В) повысился, но также, из визуализации выше можно видеть что это скорее всего обусловлено резким ростом числа покупок в одном ценовом сегменте. CR же выше у контрольной группы(А). Что бы понять, является ли полученный результат статистически значимым, сформулируем и проверим гипотезы.\n",
    "\n",
    "\n",
    " - Гипотезы об ARPPU:\n",
    " \n",
    " \n",
    "H0_1 - Различий между показателями ARPPU нет (новая механика оплаты не приводит к изменению ARPPU)  \n",
    "H1_1 - Различия между показателями есть (новая механика оплаты приводит к изменению ARPPU)\n",
    "\n",
    "\n",
    "\n",
    " - Гипотезы об CR:\n",
    " \n",
    " \n",
    " H0_2- Различий между показателями CR нет (новая механика оплаты не приводит к изменению CR)  \n",
    "H1_2 - Различия между показателями есть (новая механика оплаты приводит к изменению CR)\n",
    "\n",
    "### Проверка гипотез об ARPPU\n",
    " \n",
    "Исходя из визуализации и данных выше, видно, что распределение покупок среди пользователей не является нормальным и количество наблюдений в выборках разное. Для проверки статистическйо значимости различий в показателе ARPPU применим Бутстрап"
   ]
  },
  {
   "attachments": {},
   "cell_type": "markdown",
   "metadata": {},
   "source": [
    "# **Бутстрап**"
   ]
  },
  {
   "cell_type": "code",
   "execution_count": 32,
   "metadata": {},
   "outputs": [],
   "source": [
    "df_A = df.query('Revenue>0').query('grp==\"A\"')['Revenue']\n",
    "df_B = df.query('Revenue>0').query('grp==\"B\"')['Revenue']\n",
    "\n",
    "def get_bootstrap(\n",
    "    data_column_1, \n",
    "    data_column_2, \n",
    "    boot_it = 1000, \n",
    "    statistic = np.mean,\n",
    "    bootstrap_conf_level = 0.95 \n",
    "):\n",
    "    boot_data = []\n",
    "    for i in tqdm(range(boot_it)): \n",
    "        samples_1 = data_column_1.sample(\n",
    "            len(data_column_1), \n",
    "            replace = True \n",
    "        ).values\n",
    "        \n",
    "        samples_2 = data_column_2.sample(\n",
    "            len(data_column_1), \n",
    "            replace = True\n",
    "        ).values\n",
    "        \n",
    "        boot_data.append(statistic(samples_1)-statistic(samples_2)) \n",
    "        \n",
    "    pd_boot_data = pd.DataFrame(boot_data)\n",
    "        \n",
    "    left_quant = (1 - bootstrap_conf_level)/2\n",
    "    right_quant = 1 - (1 - bootstrap_conf_level) / 2\n",
    "    quants = pd_boot_data.quantile([left_quant, right_quant])\n",
    "        \n",
    "    p_1 = norm.cdf(\n",
    "        x = 0, \n",
    "        loc = np.mean(boot_data), \n",
    "        scale = np.std(boot_data)\n",
    "    )\n",
    "    p_2 = norm.cdf(\n",
    "        x = 0, \n",
    "        loc = -np.mean(boot_data), \n",
    "        scale = np.std(boot_data)\n",
    "    )\n",
    "    p_value = min(p_1, p_2) * 2\n",
    "    \n",
    "    \n",
    "# Визуализация\n",
    "    _, _, bars = plt.hist(pd_boot_data[0], bins = 50)\n",
    "    for bar in bars:\n",
    "        if bar.get_x() <= quants.iloc[0][0] or bar.get_x() >= quants.iloc[1][0]:\n",
    "            bar.set_facecolor('red')\n",
    "        else: \n",
    "            bar.set_facecolor('grey')\n",
    "            bar.set_edgecolor('black')\n",
    "    \n",
    "    plt.style.use('ggplot')\n",
    "    plt.vlines(quants,ymin=0,ymax=50,linestyle='--')\n",
    "    plt.xlabel('boot_data')\n",
    "    plt.ylabel('frequency')\n",
    "    plt.title(\"Histogram of boot_data\")\n",
    "    plt.show()   \n",
    "      \n",
    "    return {\"boot_data\": boot_data, \n",
    "            \"quants\": quants, \n",
    "            \"p_value\": p_value}"
   ]
  },
  {
   "cell_type": "code",
   "execution_count": 33,
   "metadata": {},
   "outputs": [
    {
     "name": "stderr",
     "output_type": "stream",
     "text": [
      "100%|██████████| 1000/1000 [00:00<00:00, 12717.68it/s]\n"
     ]
    },
    {
     "data": {
      "image/png": "[encoded data removed]",
      "text/plain": [
       "<Figure size 640x480 with 1 Axes>"
      ]
     },
     "metadata": {},
     "output_type": "display_data"
    }
   ],
   "source": [
    "booted_data = get_bootstrap(df_A, df_B)"
   ]
  },
  {
   "cell_type": "code",
   "execution_count": 34,
   "metadata": {},
   "outputs": [
    {
     "data": {
      "text/plain": [
       "0.020664436622379684"
      ]
     },
     "execution_count": 34,
     "metadata": {},
     "output_type": "execute_result"
    }
   ],
   "source": [
    "booted_data[\"p_value\"]"
   ]
  },
  {
   "cell_type": "code",
   "execution_count": 35,
   "metadata": {},
   "outputs": [
    {
     "data": {
      "text/html": [
       "<div>\n",
       "<style scoped>\n",
       "    .dataframe tbody tr th:only-of-type {\n",
       "        vertical-align: middle;\n",
       "    }\n",
       "\n",
       "    .dataframe tbody tr th {\n",
       "        vertical-align: top;\n",
       "    }\n",
       "\n",
       "    .dataframe thead th {\n",
       "        text-align: right;\n",
       "    }\n",
       "</style>\n",
       "<table border=\"1\" class=\"dataframe\">\n",
       "  <thead>\n",
       "    <tr style=\"text-align: right;\">\n",
       "      <th></th>\n",
       "      <th>0</th>\n",
       "    </tr>\n",
       "  </thead>\n",
       "  <tbody>\n",
       "    <tr>\n",
       "      <th>0.025</th>\n",
       "      <td>-437.254451</td>\n",
       "    </tr>\n",
       "    <tr>\n",
       "      <th>0.975</th>\n",
       "      <td>-29.862624</td>\n",
       "    </tr>\n",
       "  </tbody>\n",
       "</table>\n",
       "</div>"
      ],
      "text/plain": [
       "                0\n",
       "0.025 -437.254451\n",
       "0.975  -29.862624"
      ]
     },
     "execution_count": 35,
     "metadata": {},
     "output_type": "execute_result"
    }
   ],
   "source": [
    "booted_data[\"quants\"]"
   ]
  },
  {
   "cell_type": "markdown",
   "metadata": {},
   "source": [
    "В итоге проверки выяснилось, что ARPPU в результате появления нового механизма оплаты уменьшился, получается что мы отклоняем нулевую гипотезу, так как p-value меньше 0.05. Результаты теста не подтвердили предположение о том, что ARPPU увеличилcя."
   ]
  },
  {
   "cell_type": "markdown",
   "metadata": {},
   "source": [
    "### Проверка CR\n",
    "Для категориальных переменных можно использовать метод Хи-квадрат"
   ]
  },
  {
   "cell_type": "code",
   "execution_count": 36,
   "metadata": {},
   "outputs": [
    {
     "data": {
      "text/html": [
       "<div>\n",
       "<style scoped>\n",
       "    .dataframe tbody tr th:only-of-type {\n",
       "        vertical-align: middle;\n",
       "    }\n",
       "\n",
       "    .dataframe tbody tr th {\n",
       "        vertical-align: top;\n",
       "    }\n",
       "\n",
       "    .dataframe thead th {\n",
       "        text-align: right;\n",
       "    }\n",
       "</style>\n",
       "<table border=\"1\" class=\"dataframe\">\n",
       "  <thead>\n",
       "    <tr style=\"text-align: right;\">\n",
       "      <th></th>\n",
       "      <th>grp</th>\n",
       "      <th>student_id</th>\n",
       "      <th>Revenue</th>\n",
       "      <th>buyers</th>\n",
       "      <th>total_users</th>\n",
       "    </tr>\n",
       "  </thead>\n",
       "  <tbody>\n",
       "    <tr>\n",
       "      <th>0</th>\n",
       "      <td>A</td>\n",
       "      <td>275727655</td>\n",
       "      <td>92096.0000</td>\n",
       "      <td>107</td>\n",
       "      <td>1567</td>\n",
       "    </tr>\n",
       "    <tr>\n",
       "      <th>1</th>\n",
       "      <td>B</td>\n",
       "      <td>1084763905</td>\n",
       "      <td>481230.0036</td>\n",
       "      <td>434</td>\n",
       "      <td>6923</td>\n",
       "    </tr>\n",
       "  </tbody>\n",
       "</table>\n",
       "</div>"
      ],
      "text/plain": [
       "  grp  student_id      Revenue  buyers  total_users\n",
       "0   A   275727655   92096.0000     107         1567\n",
       "1   B  1084763905  481230.0036     434         6923"
      ]
     },
     "execution_count": 36,
     "metadata": {},
     "output_type": "execute_result"
    }
   ],
   "source": [
    "df_1"
   ]
  },
  {
   "cell_type": "code",
   "execution_count": 37,
   "metadata": {},
   "outputs": [
    {
     "name": "stdout",
     "output_type": "stream",
     "text": [
      "p-value: 0.4778925970224768\n"
     ]
    }
   ],
   "source": [
    "data = np.array([ [df_1.query('grp==\"A\"').total_users, df_1.query('grp==\"A\"').buyers],\\\n",
    "                [df_1.query('grp==\"B\"').total_users, df_1.query('grp==\"B\"').buyers]  ])\n",
    "\n",
    "\n",
    "chi2, prob, df, expected = scipy.stats.chi2_contingency(data)\n",
    "print(\"p-value: {}\".format(prob))"
   ]
  },
  {
   "cell_type": "markdown",
   "metadata": {},
   "source": [
    "В результате анализа с Хи-квадрат выяснилось, что CR после появления нового механизма оплаты не изменился. Можно принять нулевую гипотезу, так как p-value больше 0.05"
   ]
  },
  {
   "attachments": {},
   "cell_type": "markdown",
   "metadata": {},
   "source": [
    "### Стоит ли запускать новую механику на всех пользователей?\n",
    "\n",
    "После проведения всех тестов, можно сказать, что новая механика оплаты не приводит к статистически значимым результатам и запускатьее на всех пользователей не стоит.\n",
    "\n",
    "-----"
   ]
  }
 ],
 "metadata": {
  "kernelspec": {
   "display_name": "base",
   "language": "python",
   "name": "python3"
  },
  "language_info": {
   "codemirror_mode": {
    "name": "ipython",
    "version": 3
   },
   "file_extension": ".py",
   "mimetype": "text/x-python",
   "name": "python",
   "nbconvert_exporter": "python",
   "pygments_lexer": "ipython3",
   "version": "3.10.8"
  },
  "orig_nbformat": 4,
  "vscode": {
   "interpreter": {
    "hash": "bc038f49922869149b65b4598415aebf52596316e5de8512e1ce1680ba125e28"
   }
  }
 },
 "nbformat": 4,
 "nbformat_minor": 2
}
